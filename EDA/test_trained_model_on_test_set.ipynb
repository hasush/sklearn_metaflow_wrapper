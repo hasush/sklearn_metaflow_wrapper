{
    "cells": [
        {
            "cell_type": "code",
            "execution_count": null,
            "metadata": {},
            "outputs": [],
            "source": [
                "%load_ext autoreload\n",
                "%autoreload 2"
            ]
        },
        {
            "cell_type": "code",
            "execution_count": null,
            "metadata": {},
            "outputs": [],
            "source": [
                "\"\"\" Set up testing data to try to emulate same test and val set accuracy using the best classifier. \"\"\"\n",
                "os.sys.path.append('/path/to/this/')\n",
                "from data.utils import get_data, preprocess_data\n",
                "from model.utils import create_numpy_X_y_dataset_from_df, generate_train_test_val_split\n",
                "\n",
                "# Get data.\n",
                "df = get_data(config.get_data_method)\n",
                "\n",
                "# Info.\n",
                "print(\"Preprocess data.\")\n",
                "\n",
                "# Preprocess dataframe.\n",
                "df_preprocessed, labels, number_features, category_features = preprocess_data(df, config.get_data_method)\n",
                "\n",
                "# Create X,y numpy arrays from the dataframe and label encoders for categorical data.\n",
                "X, y, label_encoder_dicts = create_numpy_X_y_dataset_from_df(\n",
                "    num_samples,\n",
                "    df_preprocessed,\n",
                "    config.labels,\n",
                "    config.number_features,\n",
                "    config.category_features,\n",
                "    random_state=config.random_state,\n",
                ")\n",
                "\n",
                "# Split data into train, test, validation.\n",
                "X_train, X_val, X_test, y_train, y_val, y_test = generate_train_test_val_split(\n",
                "    X, y, test_size=config.test_size, val_size=config.val_size, random_state=config.random_state\n",
                ")\n",
                "\n",
                "# Scale data.\n",
                "if best_scaler is not None:\n",
                "    X_test_scaled = best_scaler.transform(X_test)\n",
                "    X_val_scaled = best_scaler.transform(X_val)\n",
                "else:\n",
                "    X_test_scaled = X_test\n",
                "    X_val_scaled = X_val\n",
                "\n",
                "# Score test set.\n",
                "test_accuracy = best_clf.score(X_test_scaled, y_test)\n",
                "val_accuracy = best_clf.score(X_val_scaled, y_val)\n",
                "print(best_test_accuracy)\n",
                "print(test_accuracy)\n",
                "print(best_val_accuracy)\n",
                "print(val_accuracy)"
            ]
        },
        {
            "cell_type": "code",
            "execution_count": null,
            "metadata": {},
            "outputs": [],
            "source": [
                "\"\"\" Set up testing data to evaluate a row from the input df. \"\"\"\n",
                "os.sys.path.append('/path/to/this/')\n",
                "from data.utils import get_data\n",
                "\n",
                "# Get data.\n",
                "df = get_data(config.get_data_method)\n",
                "columns = config.labels + config.number_features + config.category_features\n",
                "df = df[columns].dropna()"
            ]
        },
        {
            "cell_type": "code",
            "execution_count": null,
            "metadata": {},
            "outputs": [],
            "source": [
                "\"\"\" Test a single row of the input data frame. \"\"\"\n",
                "os.sys.path.append('/path/to/this/')\n",
                "from data.utils import convert_df_row_to_numpy\n",
                "row_index=11115\n",
                "X_sample, y_sample = convert_df_row_to_numpy(df, row_index, config.labels, config.number_features, config.category_features, label_encoder_dicts)\n",
                "# print(best_clf.score(X=[X_sample], y=[y_sample]))\n",
                "predict_proba=best_clf.predict_proba([X_sample])[0]\n",
                "print(f\"For input columns: {config.number_features+config.category_features} with value: {X_sample}\\nModel predicts:\\npredict_proba:{predict_proba}\\n(prediction,ground_truth)=({np.argmax(predict_proba)},{y_sample})\")\n"
            ]
        }
    ],
    "metadata": {
        "interpreter": {
            "hash": "d4d1e4263499bec80672ea0156c357c1ee493ec2b1c70f0acce89fc37c4a6abe"
        },
        "kernelspec": {
            "display_name": "Python 3.8.8 64-bit ('base': conda)",
            "language": "python",
            "name": "python3"
        },
        "language_info": {
            "codemirror_mode": {
                "name": "ipython",
                "version": 3
            },
            "file_extension": ".py",
            "mimetype": "text/x-python",
            "name": "python",
            "nbconvert_exporter": "python",
            "pygments_lexer": "ipython3",
            "version": "3.8.8"
        },
        "orig_nbformat": 4
    },
    "nbformat": 4,
    "nbformat_minor": 2
}
